{
 "cells": [
  {
   "cell_type": "code",
   "execution_count": 1,
   "metadata": {},
   "outputs": [],
   "source": [
    "import os\n",
    "import random\n",
    "import time\n",
    "import torch\n",
    "from torch.utils.data import DataLoader\n",
    "\n",
    "from evaluate import evaluate\n",
    "from models.losses import log_likelihood\n",
    "from models.metrics import SpanEvaluator\n",
    "from utils.dataset import CustomDataset\n",
    "from models.collate import collate_fn, gold_labels\n",
    "import numpy as np\n",
    "from models.model import SpanAsteModel\n",
    "from utils.processor import Res15DataProcessor\n",
    "from utils.tager import SpanLabel\n",
    "from utils.tager import RelationLabel\n",
    "from transformers import BertTokenizer, get_linear_schedule_with_warmup"
   ]
  },
  {
   "cell_type": "code",
   "execution_count": 2,
   "metadata": {},
   "outputs": [
    {
     "name": "stdout",
     "output_type": "stream",
     "text": [
      "using device:cuda\n"
     ]
    }
   ],
   "source": [
    "device = \"cuda\" if torch.cuda.is_available() else \"cpu\"\n",
    "# device = \"cpu\"\n",
    "if torch.cuda.is_available():\n",
    "    torch.cuda.empty_cache()\n",
    "print(f\"using device:{device}\")\n",
    "\n",
    "\n",
    "def set_seed(seed):\n",
    "    random.seed(seed)\n",
    "    np.random.seed(seed)\n",
    "    torch.manual_seed(seed)\n",
    "    if torch.cuda.is_available():\n",
    "        torch.cuda.manual_seed(seed)"
   ]
  },
  {
   "cell_type": "code",
   "execution_count": 3,
   "metadata": {},
   "outputs": [],
   "source": [
    "args = {\n",
    "    'bert_model': 'bert-base-uncased',\n",
    "    'span_pruned_threshold': 0.5,\n",
    "    'batch_size': 1,\n",
    "    'learning_rate': 5e-5,\n",
    "    'weight_decay': 1e-2,\n",
    "    'warmup_proportion': 0.1,\n",
    "    'train_path': 'data/15res',\n",
    "    'dev_path': 'data/15res',\n",
    "    'save_dir': './checkpoint',\n",
    "    'max_seq_len': 16,\n",
    "    'num_epochs': 10,\n",
    "    'seed': 41,\n",
    "    'logging_steps': 30,\n",
    "    'valid_steps': 50,\n",
    "    'init_from_ckpt': 'checkpoint\\model_best\\model.pt'\n",
    "}\n",
    "\n",
    "args = type('allMyFields', (object,), args)\n",
    "\n",
    "# set seed\n",
    "set_seed(args.seed)"
   ]
  },
  {
   "cell_type": "code",
   "execution_count": 4,
   "metadata": {},
   "outputs": [
    {
     "data": {
      "text/plain": [
       "SpanAsteModel(\n",
       "  (bert): BertModel(\n",
       "    (embeddings): BertEmbeddings(\n",
       "      (word_embeddings): Embedding(30522, 768, padding_idx=0)\n",
       "      (position_embeddings): Embedding(512, 768)\n",
       "      (token_type_embeddings): Embedding(2, 768)\n",
       "      (LayerNorm): LayerNorm((768,), eps=1e-12, elementwise_affine=True)\n",
       "      (dropout): Dropout(p=0.1, inplace=False)\n",
       "    )\n",
       "    (encoder): BertEncoder(\n",
       "      (layer): ModuleList(\n",
       "        (0-11): 12 x BertLayer(\n",
       "          (attention): BertAttention(\n",
       "            (self): BertSdpaSelfAttention(\n",
       "              (query): Linear(in_features=768, out_features=768, bias=True)\n",
       "              (key): Linear(in_features=768, out_features=768, bias=True)\n",
       "              (value): Linear(in_features=768, out_features=768, bias=True)\n",
       "              (dropout): Dropout(p=0.1, inplace=False)\n",
       "            )\n",
       "            (output): BertSelfOutput(\n",
       "              (dense): Linear(in_features=768, out_features=768, bias=True)\n",
       "              (LayerNorm): LayerNorm((768,), eps=1e-12, elementwise_affine=True)\n",
       "              (dropout): Dropout(p=0.1, inplace=False)\n",
       "            )\n",
       "          )\n",
       "          (intermediate): BertIntermediate(\n",
       "            (dense): Linear(in_features=768, out_features=3072, bias=True)\n",
       "            (intermediate_act_fn): GELUActivation()\n",
       "          )\n",
       "          (output): BertOutput(\n",
       "            (dense): Linear(in_features=3072, out_features=768, bias=True)\n",
       "            (LayerNorm): LayerNorm((768,), eps=1e-12, elementwise_affine=True)\n",
       "            (dropout): Dropout(p=0.1, inplace=False)\n",
       "          )\n",
       "        )\n",
       "      )\n",
       "    )\n",
       "    (pooler): BertPooler(\n",
       "      (dense): Linear(in_features=768, out_features=768, bias=True)\n",
       "      (activation): Tanh()\n",
       "    )\n",
       "  )\n",
       "  (span_representation): SpanRepresentation(\n",
       "    (span_width_embedding): Embedding(14, 20)\n",
       "  )\n",
       "  (span_ffnn): Sequential(\n",
       "    (0): Linear(in_features=1556, out_features=150, bias=True)\n",
       "    (1): ReLU()\n",
       "    (2): Dropout(p=0.4, inplace=False)\n",
       "    (3): Linear(in_features=150, out_features=150, bias=True)\n",
       "    (4): ReLU()\n",
       "    (5): Dropout(p=0.4, inplace=False)\n",
       "    (6): Linear(in_features=150, out_features=3, bias=True)\n",
       "    (7): Softmax(dim=-1)\n",
       "  )\n",
       "  (target_opinion_pair_representation): TargetOpinionPairRepresentation(\n",
       "    (distance_embeddings): Embedding(14, 128)\n",
       "  )\n",
       "  (pairs_ffnn): Sequential(\n",
       "    (0): Linear(in_features=3240, out_features=150, bias=True)\n",
       "    (1): ReLU()\n",
       "    (2): Dropout(p=0.4, inplace=False)\n",
       "    (3): Linear(in_features=150, out_features=150, bias=True)\n",
       "    (4): ReLU()\n",
       "    (5): Dropout(p=0.4, inplace=False)\n",
       "    (6): Linear(in_features=150, out_features=4, bias=True)\n",
       "    (7): Softmax(dim=-1)\n",
       "  )\n",
       ")"
      ]
     },
     "execution_count": 4,
     "metadata": {},
     "output_type": "execute_result"
    }
   ],
   "source": [
    "# get dimension of target and relation\n",
    "target_dim, relation_dim = len(SpanLabel), len(RelationLabel)\n",
    "# build span-aste model\n",
    "model = SpanAsteModel(\n",
    "    args.bert_model,\n",
    "    target_dim,\n",
    "    relation_dim,\n",
    "    span_pruned_threshold=args.span_pruned_threshold,\n",
    "    device=device\n",
    ")\n",
    "model.to(device)"
   ]
  },
  {
   "cell_type": "markdown",
   "metadata": {},
   "source": [
    "### **DataLoader**"
   ]
  },
  {
   "cell_type": "code",
   "execution_count": 5,
   "metadata": {},
   "outputs": [
    {
     "name": "stdout",
     "output_type": "stream",
     "text": [
      "Loading Train & Eval Dataset...\n",
      "Construct Dataloader...\n"
     ]
    }
   ],
   "source": [
    "# tokenizer\n",
    "tokenizer = BertTokenizer.from_pretrained(args.bert_model)\n",
    "\n",
    "# create processor\n",
    "processor = Res15DataProcessor(tokenizer, args.max_seq_len)\n",
    "\n",
    "print(\"Loading Train & Eval Dataset...\")\n",
    "# Load dataset\n",
    "train_dataset = CustomDataset(\"train\", args.train_path, processor, tokenizer, args.max_seq_len)\n",
    "eval_dataset = CustomDataset(\"dev\", args.dev_path, processor, tokenizer, args.max_seq_len)\n",
    "test_dataset = CustomDataset(\"test\", args.dev_path, processor, tokenizer, args.max_seq_len)\n",
    "\n",
    "print(\"Construct Dataloader...\")\n",
    "train_dataloader = DataLoader(train_dataset, batch_size=args.batch_size, shuffle=True, collate_fn=collate_fn)\n",
    "eval_dataloader = DataLoader(eval_dataset, batch_size=args.batch_size, shuffle=True, collate_fn=collate_fn)\n",
    "test_dataloader = DataLoader(test_dataset, batch_size=args.batch_size, shuffle=False, collate_fn=collate_fn)"
   ]
  },
  {
   "cell_type": "markdown",
   "metadata": {},
   "source": [
    "#### **Visualize**"
   ]
  },
  {
   "cell_type": "code",
   "execution_count": 6,
   "metadata": {},
   "outputs": [
    {
     "data": {
      "text/plain": [
       "{'guid': 'train-0',\n",
       " 'text_a': 'Judging from previous posts this used to be a good place , but not any longer .',\n",
       " 'spans': [(11, 12), (10, 11)],\n",
       " 'relations': [(11, 12, 10, 11)],\n",
       " 'span_labels': [1, 2],\n",
       " 'relation_labels': [2]}"
      ]
     },
     "execution_count": 6,
     "metadata": {},
     "output_type": "execute_result"
    }
   ],
   "source": [
    "vars(train_dataset.examples[0])"
   ]
  },
  {
   "cell_type": "code",
   "execution_count": 7,
   "metadata": {},
   "outputs": [
    {
     "data": {
      "text/plain": [
       "1075"
      ]
     },
     "execution_count": 7,
     "metadata": {},
     "output_type": "execute_result"
    }
   ],
   "source": [
    "dataset = []\n",
    "dataset.extend(train_dataset.examples)\n",
    "dataset.extend(eval_dataset.examples)\n",
    "dataset.extend(test_dataset.examples)\n",
    "\n",
    "len(dataset)"
   ]
  },
  {
   "cell_type": "markdown",
   "metadata": {},
   "source": [
    "### **Train**"
   ]
  },
  {
   "cell_type": "markdown",
   "metadata": {},
   "source": [
    "#### **Setup**"
   ]
  },
  {
   "cell_type": "code",
   "execution_count": 8,
   "metadata": {},
   "outputs": [],
   "source": [
    "no_decay = ['bias', 'LayerNorm.weight']\n",
    "bert_param_optimizer = list(model.bert.named_parameters())\n",
    "span_linear_param_optimizer = list(model.span_ffnn.named_parameters())\n",
    "pair_linear_param_optimizer = list(model.pairs_ffnn.named_parameters())\n",
    "optimizer_grouped_parameters = [\n",
    "    {'params': [p for n, p in bert_param_optimizer if not any(nd in n for nd in no_decay)],\n",
    "        'weight_decay': args.weight_decay, 'lr': args.learning_rate},\n",
    "    {'params': [p for n, p in bert_param_optimizer if any(nd in n for nd in no_decay)], 'weight_decay': 0.0,\n",
    "        'lr': args.learning_rate},\n",
    "\n",
    "    {'params': [p for n, p in span_linear_param_optimizer if not any(nd in n for nd in no_decay)],\n",
    "        'weight_decay': 0.0, 'lr': 1e-3},\n",
    "    {'params': [p for n, p in span_linear_param_optimizer if any(nd in n for nd in no_decay)], 'weight_decay': 0.0,\n",
    "        'lr': 1e-3},\n",
    "\n",
    "    {'params': [p for n, p in pair_linear_param_optimizer if not any(nd in n for nd in no_decay)],\n",
    "        'weight_decay': 0.0, 'lr': 1e-3},\n",
    "    {'params': [p for n, p in pair_linear_param_optimizer if any(nd in n for nd in no_decay)], 'weight_decay': 0.0,\n",
    "        'lr': 1e-3}\n",
    "]\n",
    "\n",
    "\n",
    "optimizer = torch.optim.AdamW(optimizer_grouped_parameters, lr=args.learning_rate)\n",
    "num_training_steps = len(train_dataloader) * args.num_epochs\n",
    "num_warmup_steps = num_training_steps * args.warmup_proportion\n",
    "scheduler = get_linear_schedule_with_warmup(optimizer, num_warmup_steps=num_warmup_steps,\n",
    "                                            num_training_steps=num_training_steps)\n",
    "\n",
    "\n",
    "metric = SpanEvaluator()"
   ]
  },
  {
   "cell_type": "markdown",
   "metadata": {},
   "source": [
    "#### **Train loop**"
   ]
  },
  {
   "cell_type": "code",
   "execution_count": 9,
   "metadata": {},
   "outputs": [
    {
     "name": "stdout",
     "output_type": "stream",
     "text": [
      "Batch: 0, loss: 19.90731\n",
      "Batch: 50, loss: 42.57596\n",
      "Batch: 100, loss: 27.82110\n",
      "Batch: 150, loss: 22.39578\n",
      "Batch: 200, loss: 19.74555\n",
      "Batch: 250, loss: 18.19354\n",
      "Batch: 300, loss: 17.19445\n",
      "Batch: 350, loss: 16.23532\n",
      "Batch: 400, loss: 15.22645\n",
      "Batch: 450, loss: 14.60579\n",
      "Batch: 500, loss: 13.85350\n",
      "Batch: 550, loss: 13.31222\n",
      "Batch: 600, loss: 12.92586\n",
      "Epoch: 1, loss: 12.87240, time: 132 seconds\n",
      "Evaluation precision: 0.50704, recall: 0.20112, F1: 0.28800\n",
      "best F1 performence has been updated: 0.00000 --> 0.28800\n",
      "\n",
      "Batch: 0, loss: 0.09322\n",
      "Batch: 50, loss: 5.73955\n",
      "Batch: 100, loss: 6.76871\n",
      "Batch: 150, loss: 6.71798\n",
      "Batch: 200, loss: 6.39407\n",
      "Batch: 250, loss: 6.44129\n",
      "Batch: 300, loss: 6.33536\n",
      "Batch: 350, loss: 6.16447\n",
      "Batch: 400, loss: 6.11092\n",
      "Batch: 450, loss: 5.84786\n",
      "Batch: 500, loss: 5.72948\n",
      "Batch: 550, loss: 5.76593\n",
      "Batch: 600, loss: 5.76346\n",
      "Epoch: 2, loss: 5.77064, time: 130 seconds\n",
      "Evaluation precision: 0.72857, recall: 0.28022, F1: 0.40476\n",
      "best F1 performence has been updated: 0.28800 --> 0.40476\n",
      "\n",
      "Batch: 0, loss: 1.33390\n",
      "Batch: 50, loss: 4.00094\n",
      "Batch: 100, loss: 4.26731\n",
      "Batch: 150, loss: 4.10412\n",
      "Batch: 200, loss: 3.85643\n",
      "Batch: 250, loss: 3.71601\n",
      "Batch: 300, loss: 3.75744\n",
      "Batch: 350, loss: 3.66092\n",
      "Batch: 400, loss: 3.51509\n",
      "Batch: 450, loss: 3.59988\n",
      "Batch: 500, loss: 3.54702\n",
      "Batch: 550, loss: 3.61637\n",
      "Batch: 600, loss: 3.60700\n",
      "Epoch: 3, loss: 3.62112, time: 130 seconds\n",
      "Evaluation precision: 0.49510, recall: 0.56425, F1: 0.52742\n",
      "best F1 performence has been updated: 0.40476 --> 0.52742\n",
      "\n",
      "Batch: 0, loss: 5.33593\n",
      "Batch: 50, loss: 2.90502\n",
      "Batch: 100, loss: 2.59331\n",
      "Batch: 150, loss: 2.71661\n",
      "Batch: 200, loss: 2.75079\n",
      "Batch: 250, loss: 2.70976\n",
      "Batch: 300, loss: 2.80748\n",
      "Batch: 350, loss: 2.73751\n",
      "Batch: 400, loss: 2.78639\n",
      "Batch: 450, loss: 2.78932\n",
      "Batch: 500, loss: 2.83408\n",
      "Batch: 550, loss: 2.83284\n",
      "Batch: 600, loss: 2.85945\n",
      "Epoch: 4, loss: 2.84779, time: 131 seconds\n",
      "Evaluation precision: 0.70186, recall: 0.62778, F1: 0.66276\n",
      "best F1 performence has been updated: 0.52742 --> 0.66276\n",
      "\n",
      "Batch: 0, loss: 0.64892\n",
      "Batch: 50, loss: 2.02214\n",
      "Batch: 100, loss: 1.92898\n",
      "Batch: 150, loss: 2.03333\n",
      "Batch: 200, loss: 1.94044\n",
      "Batch: 250, loss: 1.98970\n",
      "Batch: 300, loss: 1.89229\n",
      "Batch: 350, loss: 1.82515\n",
      "Batch: 400, loss: 1.85858\n",
      "Batch: 450, loss: 1.89111\n",
      "Batch: 500, loss: 1.96194\n",
      "Batch: 550, loss: 1.95915\n",
      "Batch: 600, loss: 1.97185\n",
      "Epoch: 5, loss: 1.97058, time: 134 seconds\n",
      "Evaluation precision: 0.66082, recall: 0.62431, F1: 0.64205\n",
      "\n",
      "Batch: 0, loss: 1.42239\n",
      "Batch: 50, loss: 1.33568\n",
      "Batch: 100, loss: 1.16571\n",
      "Batch: 150, loss: 1.29313\n",
      "Batch: 200, loss: 1.34645\n",
      "Batch: 250, loss: 1.43672\n",
      "Batch: 300, loss: 1.41336\n",
      "Batch: 350, loss: 1.41275\n",
      "Batch: 400, loss: 1.38891\n",
      "Batch: 450, loss: 1.37611\n",
      "Batch: 500, loss: 1.35823\n",
      "Batch: 550, loss: 1.35969\n",
      "Batch: 600, loss: 1.33139\n",
      "Epoch: 6, loss: 1.33151, time: 134 seconds\n",
      "Evaluation precision: 0.77679, recall: 0.48333, F1: 0.59589\n",
      "\n",
      "Batch: 0, loss: 0.00053\n",
      "Batch: 50, loss: 1.13289\n",
      "Batch: 100, loss: 1.05169\n",
      "Batch: 150, loss: 0.99364\n",
      "Batch: 200, loss: 1.00051\n",
      "Batch: 250, loss: 0.98585\n",
      "Batch: 300, loss: 1.03525\n",
      "Batch: 350, loss: 0.98679\n",
      "Batch: 400, loss: 0.95803\n",
      "Batch: 450, loss: 0.94127\n",
      "Batch: 500, loss: 0.95708\n",
      "Batch: 550, loss: 0.96701\n",
      "Batch: 600, loss: 0.93689\n",
      "Epoch: 7, loss: 0.93845, time: 133 seconds\n",
      "Evaluation precision: 0.75882, recall: 0.71271, F1: 0.73504\n",
      "best F1 performence has been updated: 0.66276 --> 0.73504\n",
      "\n",
      "Batch: 0, loss: 0.00591\n",
      "Batch: 50, loss: 0.73619\n",
      "Batch: 100, loss: 0.61033\n",
      "Batch: 150, loss: 0.57047\n",
      "Batch: 200, loss: 0.56245\n",
      "Batch: 250, loss: 0.62927\n",
      "Batch: 300, loss: 0.64124\n",
      "Batch: 350, loss: 0.62957\n",
      "Batch: 400, loss: 0.64834\n",
      "Batch: 450, loss: 0.64624\n",
      "Batch: 500, loss: 0.63293\n",
      "Batch: 550, loss: 0.65093\n",
      "Batch: 600, loss: 0.64372\n",
      "Epoch: 8, loss: 0.66034, time: 132 seconds\n",
      "Evaluation precision: 0.73295, recall: 0.70879, F1: 0.72067\n",
      "\n",
      "Batch: 0, loss: 12.42850\n",
      "Batch: 50, loss: 1.29308\n",
      "Batch: 100, loss: 0.91980\n",
      "Batch: 150, loss: 0.86463\n",
      "Batch: 200, loss: 0.77319\n",
      "Batch: 250, loss: 0.67242\n",
      "Batch: 300, loss: 0.62627\n",
      "Batch: 350, loss: 0.61790\n",
      "Batch: 400, loss: 0.64067\n",
      "Batch: 450, loss: 0.64555\n",
      "Batch: 500, loss: 0.62668\n",
      "Batch: 550, loss: 0.59295\n",
      "Batch: 600, loss: 0.56748\n",
      "Epoch: 9, loss: 0.56677, time: 132 seconds\n",
      "Evaluation precision: 0.75000, recall: 0.72527, F1: 0.73743\n",
      "best F1 performence has been updated: 0.73504 --> 0.73743\n",
      "\n",
      "Batch: 0, loss: 2.09708\n",
      "Batch: 50, loss: 0.54686\n",
      "Batch: 100, loss: 0.56775\n",
      "Batch: 150, loss: 0.48433\n",
      "Batch: 200, loss: 0.47095\n",
      "Batch: 250, loss: 0.45963\n",
      "Batch: 300, loss: 0.42248\n",
      "Batch: 350, loss: 0.47492\n",
      "Batch: 400, loss: 0.45864\n",
      "Batch: 450, loss: 0.45434\n",
      "Batch: 500, loss: 0.43591\n",
      "Batch: 550, loss: 0.42799\n",
      "Batch: 600, loss: 0.42524\n",
      "Epoch: 10, loss: 0.42255, time: 136 seconds\n",
      "Evaluation precision: 0.76543, recall: 0.68132, F1: 0.72093\n",
      "\n"
     ]
    }
   ],
   "source": [
    "best_f1 = 0\n",
    "\n",
    "for epoch in range(1, args.num_epochs + 1):\n",
    "    model.train()\n",
    "    tic_train = time.time()\n",
    "    loss_list = []\n",
    "\n",
    "    for batch_ix, batch in enumerate(train_dataloader):\n",
    "        input_ids, attention_mask, token_type_ids, spans, relations, span_labels, relation_labels, seq_len = batch\n",
    "        input_ids = torch.tensor(input_ids, device=device)\n",
    "        attention_mask = torch.tensor(attention_mask, device=device)\n",
    "        token_type_ids = torch.tensor(token_type_ids, device=device)\n",
    "\n",
    "        # forward\n",
    "        spans_probability, span_indices, relations_probability, candidate_indices = model(\n",
    "            input_ids, attention_mask, token_type_ids, seq_len)\n",
    "\n",
    "        gold_span_indices, gold_span_labels = gold_labels(span_indices, spans, span_labels)\n",
    "        loss_ner = log_likelihood(spans_probability, span_indices, \n",
    "                                  gold_span_indices, gold_span_labels, invalid_rate=0.001)\n",
    "\n",
    "        gold_relation_indices, gold_relation_labels = gold_labels(candidate_indices, relations, relation_labels)\n",
    "        loss_relation = log_likelihood(relations_probability, candidate_indices, \n",
    "                                       gold_relation_indices, gold_relation_labels, invalid_rate=0.01)\n",
    "\n",
    "        # loss compute\n",
    "        loss = loss_ner + loss_relation\n",
    "\n",
    "        # backward\n",
    "        optimizer.zero_grad()\n",
    "\n",
    "        loss.backward()\n",
    "        optimizer.step()\n",
    "        scheduler.step()\n",
    "\n",
    "        loss_list.append(float(loss))\n",
    "        \n",
    "        if batch_ix % 50 == 0:\n",
    "            print(\"Batch: %d, loss: %.5f\" % (batch_ix, sum(loss_list) / len(loss_list)))\n",
    "\n",
    "    time_diff = time.time() - tic_train\n",
    "    loss_avg = sum(loss_list) / len(loss_list)\n",
    "\n",
    "    print(\"Epoch: %d, loss: %.5f, time: %d seconds\"% (epoch, loss_avg, time_diff))\n",
    "\n",
    "    #eval\n",
    "    precision, recall, f1 = evaluate(model, metric, eval_dataloader, device)\n",
    "    print(\"Evaluation precision: %.5f, recall: %.5f, F1: %.5f\" % (precision, recall, f1))\n",
    "\n",
    "    if f1 > best_f1:\n",
    "        print(f\"best F1 performence has been updated: {best_f1:.5f} --> {f1:.5f}\")\n",
    "        best_f1 = f1\n",
    "        save_dir = os.path.join(args.save_dir, \"model_best\")\n",
    "        if not os.path.exists(save_dir):\n",
    "            os.makedirs(save_dir)\n",
    "        torch.save(model.state_dict(), os.path.join(save_dir, \"model_v3.pt\"))\n",
    "    print()"
   ]
  },
  {
   "cell_type": "code",
   "execution_count": 27,
   "metadata": {},
   "outputs": [
    {
     "data": {
      "image/png": "[encoded data removed]",
      "text/plain": [
       "<Figure size 1000x600 with 2 Axes>"
      ]
     },
     "metadata": {},
     "output_type": "display_data"
    }
   ],
   "source": [
    "import matplotlib.pyplot as plt\n",
    "import numpy as np\n",
    "\n",
    "epochs = np.arange(1, 11) \n",
    "loss =      [12.8724, 5.77064, 3.62112, 2.847798, 1.97058, 1.33151, 0.93845, 0.66034, 0.56677, 0.42255]\n",
    "precision = [0.50704, 0.72857, 0.49510, 0.70186, 0.66082, 0.77679, 0.75882, 0.73295, 0.75000, 0.76543]\n",
    "recall =    [0.20112, 0.28022, 0.56425, 0.62778, 0.62431, 0.48333, 0.71271, 0.70879, 0.72527, 0.68132]\n",
    "f1_score =  [0.28800, 0.40476, 0.52742, 0.66276, 0.64205, 0.59589, 0.73504, 0.72067, 0.73743, 0.72093]\n",
    "\n",
    "# Tạo đồ thị chính\n",
    "fig, ax1 = plt.subplots(figsize=(10, 6))\n",
    "ax1.plot(epochs, loss, marker='o', color='b', label='Loss', linestyle='--')\n",
    "ax1.set_xlabel('Epochs', fontsize=14)\n",
    "ax1.set_ylabel('Loss', color='b', fontsize=14)\n",
    "ax1.tick_params(axis='y', labelcolor='b', labelsize=12)\n",
    "\n",
    "# Tạo trục y thứ hai (twinx)\n",
    "ax2 = ax1.twinx()\n",
    "ax2.plot(epochs, precision, marker='o', color='g', label='Precision')\n",
    "ax2.plot(epochs, recall, marker='o', color='r', label='Recall')\n",
    "ax2.plot(epochs, f1_score, marker='o', color='purple', label='F1-Score')\n",
    "ax2.set_ylabel('Precision, Recall, F1-Score', color='black', fontsize=14)\n",
    "ax2.tick_params(axis='y', labelcolor='black', labelsize=12)\n",
    "\n",
    "# Thêm tiêu đề và chú thích\n",
    "plt.title('Training History p=0.001, p′=0.01: Loss, Precision, Recall, F1-Score', fontsize=15, pad=21)\n",
    "fig.tight_layout()\n",
    "fig.legend(loc='upper left', bbox_to_anchor=(0.73, 0.45), fontsize=13)\n",
    "plt.show()\n"
   ]
  },
  {
   "cell_type": "markdown",
   "metadata": {},
   "source": [
    "### **Eval**"
   ]
  },
  {
   "cell_type": "code",
   "execution_count": 10,
   "metadata": {},
   "outputs": [
    {
     "name": "stdout",
     "output_type": "stream",
     "text": [
      "Evaluation precision: 0.75000, recall: 0.72527, F1: 0.73743\n"
     ]
    }
   ],
   "source": [
    "model.load_state_dict(torch.load('checkpoint\\model_best\\model_v3.pt', weights_only=True))\n",
    "model.eval()\n",
    "\n",
    "precision, recall, f1 = evaluate(model, metric, eval_dataloader, device)\n",
    "print(\"Evaluation precision: %.5f, recall: %.5f, F1: %.5f\" % (precision, recall, f1))"
   ]
  },
  {
   "cell_type": "code",
   "execution_count": 11,
   "metadata": {},
   "outputs": [
    {
     "name": "stdout",
     "output_type": "stream",
     "text": [
      "Evaluation precision: 0.66082, recall: 0.66864, F1: 0.66471\n"
     ]
    }
   ],
   "source": [
    "precision, recall, f1 = evaluate(model, metric, test_dataloader, device)\n",
    "print(\"Evaluation precision: %.5f, recall: %.5f, F1: %.5f\" % (precision, recall, f1))"
   ]
  },
  {
   "cell_type": "code",
   "execution_count": 12,
   "metadata": {},
   "outputs": [],
   "source": [
    "from sklearn.metrics import classification_report, confusion_matrix\n",
    "\n",
    "def test_report(model_test:SpanAsteModel):\n",
    "    spans_predicts = np.array([])\n",
    "    spans_labels = np.array([])\n",
    "    triple_predicts = np.array([])\n",
    "    triple_lables = np.array([])\n",
    "\n",
    "    candidate_indices_list = []\n",
    "    relations_list = []\n",
    "\n",
    "    with torch.no_grad():\n",
    "        for batch_ix, batch in enumerate(test_dataloader):\n",
    "            input_ids, attention_mask, token_type_ids, spans, relations, span_labels, relation_labels, seq_len = batch\n",
    "            input_ids = torch.tensor(input_ids, device=device)\n",
    "            attention_mask = torch.tensor(attention_mask, device=device)\n",
    "            token_type_ids = torch.tensor(token_type_ids, device=device)\n",
    "\n",
    "            # forward\n",
    "            spans_probability, span_indices, relations_probability, candidate_indices = model_test(\n",
    "                input_ids, attention_mask, token_type_ids, seq_len)\n",
    "\n",
    "            gold_span_indices, gold_span_labels = gold_labels(span_indices, spans, span_labels)\n",
    "            gold_relation_indices, gold_relation_labels = gold_labels(candidate_indices, relations, relation_labels)\n",
    "\n",
    "\n",
    "            spans_predicts = np.concatenate((spans_predicts, torch.flatten(spans_probability.argmax(-1)).cpu().numpy()))\n",
    "            spans_labels = np.concatenate((spans_labels, np.array(gold_span_labels).flatten()))\n",
    "\n",
    "            triple_predicts = np.concatenate((triple_predicts, torch.flatten(relations_probability.argmax(-1)).cpu().numpy()))\n",
    "            triple_lables = np.concatenate((triple_lables, np.array(gold_relation_labels).flatten()))\n",
    "\n",
    "            candidate_indices_list.extend(candidate_indices)\n",
    "            relations_list.extend(relations)\n",
    "\n",
    "\n",
    "    print('spans_labels:')\n",
    "    print(classification_report(spans_labels, spans_predicts))\n",
    "\n",
    "    print('triple_lables:')\n",
    "    print(classification_report(triple_lables, triple_predicts, zero_division=1))\n",
    "\n",
    "    recall = 0\n",
    "    total = 0\n",
    "\n",
    "    for i in range(len(relations_list)):\n",
    "        total += len(relations_list[i])\n",
    "        for j in range(len(relations_list[i])):\n",
    "            if relations_list[i][j] in candidate_indices_list[i]:\n",
    "                recall += 1\n",
    "\n",
    "    print(\"Eval pruning strategy:\")\n",
    "    print(\"Candidates: %d - N_triple: %d - Recall: %.5f\" % (recall, total, recall / total))"
   ]
  },
  {
   "cell_type": "code",
   "execution_count": 13,
   "metadata": {},
   "outputs": [],
   "source": [
    "torch.cuda.empty_cache()"
   ]
  },
  {
   "cell_type": "code",
   "execution_count": 14,
   "metadata": {},
   "outputs": [
    {
     "name": "stdout",
     "output_type": "stream",
     "text": [
      "spans_labels:\n",
      "              precision    recall  f1-score   support\n",
      "\n",
      "         0.0       1.00      0.99      0.99     24956\n",
      "         1.0       0.82      0.83      0.82       349\n",
      "         2.0       0.80      0.85      0.82       363\n",
      "\n",
      "    accuracy                           0.99     25668\n",
      "   macro avg       0.87      0.89      0.88     25668\n",
      "weighted avg       0.99      0.99      0.99     25668\n",
      "\n",
      "triple_lables:\n",
      "              precision    recall  f1-score   support\n",
      "\n",
      "         0.0       0.99      1.00      0.99     14870\n",
      "         1.0       0.77      0.70      0.73       234\n",
      "         2.0       0.59      0.46      0.52        89\n",
      "         3.0       1.00      0.00      0.00        18\n",
      "\n",
      "    accuracy                           0.99     15211\n",
      "   macro avg       0.84      0.54      0.56     15211\n",
      "weighted avg       0.99      0.99      0.99     15211\n",
      "\n",
      "Eval pruning strategy:\n",
      "Candidates: 341 - N_triple: 485 - Recall: 0.70309\n"
     ]
    }
   ],
   "source": [
    "model_v1 = SpanAsteModel(args.bert_model, target_dim, relation_dim,\n",
    "                         span_pruned_threshold=args.span_pruned_threshold, device=device)\n",
    "model_v1.to(device)\n",
    "model_v1.load_state_dict(torch.load('checkpoint\\model_best\\model.pt', weights_only=True))\n",
    "model_v1.eval()\n",
    "test_report(model_v1)"
   ]
  },
  {
   "cell_type": "code",
   "execution_count": 15,
   "metadata": {},
   "outputs": [
    {
     "name": "stdout",
     "output_type": "stream",
     "text": [
      "spans_labels:\n",
      "              precision    recall  f1-score   support\n",
      "\n",
      "         0.0       1.00      0.99      0.99     24956\n",
      "         1.0       0.77      0.88      0.82       349\n",
      "         2.0       0.77      0.87      0.82       363\n",
      "\n",
      "    accuracy                           0.99     25668\n",
      "   macro avg       0.84      0.91      0.88     25668\n",
      "weighted avg       0.99      0.99      0.99     25668\n",
      "\n",
      "triple_lables:\n",
      "              precision    recall  f1-score   support\n",
      "\n",
      "         0.0       0.99      1.00      0.99     14876\n",
      "         1.0       0.76      0.75      0.76       229\n",
      "         2.0       0.54      0.56      0.55        88\n",
      "         3.0       1.00      0.00      0.00        18\n",
      "\n",
      "    accuracy                           0.99     15211\n",
      "   macro avg       0.83      0.58      0.58     15211\n",
      "weighted avg       0.99      0.99      0.99     15211\n",
      "\n",
      "Eval pruning strategy:\n",
      "Candidates: 335 - N_triple: 485 - Recall: 0.69072\n"
     ]
    }
   ],
   "source": [
    "model_v2 = SpanAsteModel(args.bert_model, target_dim, relation_dim,\n",
    "                         span_pruned_threshold=args.span_pruned_threshold, device=device)\n",
    "model_v2.to(device)\n",
    "model_v2.load_state_dict(torch.load('checkpoint\\model_best\\model_v2.pt', weights_only=True))\n",
    "model_v2.eval()\n",
    "test_report(model_v2)"
   ]
  },
  {
   "cell_type": "code",
   "execution_count": 16,
   "metadata": {},
   "outputs": [
    {
     "name": "stdout",
     "output_type": "stream",
     "text": [
      "spans_labels:\n",
      "              precision    recall  f1-score   support\n",
      "\n",
      "         0.0       1.00      0.99      0.99     24956\n",
      "         1.0       0.75      0.91      0.82       349\n",
      "         2.0       0.77      0.85      0.81       363\n",
      "\n",
      "    accuracy                           0.99     25668\n",
      "   macro avg       0.84      0.92      0.87     25668\n",
      "weighted avg       0.99      0.99      0.99     25668\n",
      "\n",
      "triple_lables:\n",
      "              precision    recall  f1-score   support\n",
      "\n",
      "         0.0       0.99      0.99      0.99     14873\n",
      "         1.0       0.69      0.76      0.72       231\n",
      "         2.0       0.57      0.57      0.57        89\n",
      "         3.0       1.00      0.00      0.00        18\n",
      "\n",
      "    accuracy                           0.99     15211\n",
      "   macro avg       0.81      0.58      0.57     15211\n",
      "weighted avg       0.99      0.99      0.99     15211\n",
      "\n",
      "Eval pruning strategy:\n",
      "Candidates: 338 - N_triple: 485 - Recall: 0.69691\n"
     ]
    }
   ],
   "source": [
    "model_v3 = SpanAsteModel(args.bert_model, target_dim, relation_dim,\n",
    "                         span_pruned_threshold=args.span_pruned_threshold, device=device)\n",
    "model_v3.to(device)\n",
    "model_v3.load_state_dict(torch.load('checkpoint\\model_best\\model_v3.pt', weights_only=True))\n",
    "model_v3.eval()\n",
    "test_report(model_v3)"
   ]
  },
  {
   "cell_type": "code",
   "execution_count": 17,
   "metadata": {},
   "outputs": [
    {
     "name": "stdout",
     "output_type": "stream",
     "text": [
      "Evaluation precision: 0.72340, recall: 0.59824, F1: 0.65490\n"
     ]
    }
   ],
   "source": [
    "precision, recall, f1 = evaluate(model_v1, metric, test_dataloader, device)\n",
    "print(\"Evaluation precision: %.5f, recall: %.5f, F1: %.5f\" % (precision, recall, f1))"
   ]
  },
  {
   "cell_type": "code",
   "execution_count": 18,
   "metadata": {},
   "outputs": [
    {
     "name": "stdout",
     "output_type": "stream",
     "text": [
      "Evaluation precision: 0.70159, recall: 0.65970, F1: 0.68000\n"
     ]
    }
   ],
   "source": [
    "precision, recall, f1 = evaluate(model_v2, metric, test_dataloader, device)\n",
    "print(\"Evaluation precision: %.5f, recall: %.5f, F1: %.5f\" % (precision, recall, f1))"
   ]
  },
  {
   "cell_type": "code",
   "execution_count": 19,
   "metadata": {},
   "outputs": [
    {
     "name": "stdout",
     "output_type": "stream",
     "text": [
      "Evaluation precision: 0.66082, recall: 0.66864, F1: 0.66471\n"
     ]
    }
   ],
   "source": [
    "precision, recall, f1 = evaluate(model_v3, metric, test_dataloader, device)\n",
    "print(\"Evaluation precision: %.5f, recall: %.5f, F1: %.5f\" % (precision, recall, f1))"
   ]
  }
 ],
 "metadata": {
  "kernelspec": {
   "display_name": "base",
   "language": "python",
   "name": "python3"
  },
  "language_info": {
   "codemirror_mode": {
    "name": "ipython",
    "version": 3
   },
   "file_extension": ".py",
   "mimetype": "text/x-python",
   "name": "python",
   "nbconvert_exporter": "python",
   "pygments_lexer": "ipython3",
   "version": "3.10.15"
  }
 },
 "nbformat": 4,
 "nbformat_minor": 2
}
